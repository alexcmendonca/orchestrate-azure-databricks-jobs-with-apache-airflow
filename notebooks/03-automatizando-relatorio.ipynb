{
 "cells": [
  {
   "cell_type": "code",
   "execution_count": null,
   "metadata": {
    "application/vnd.databricks.v1+cell": {
     "cellMetadata": {},
     "inputWidgets": {},
     "nuid": "af27c42e-3b3f-45e0-9832-6c3277aa4b72",
     "showTitle": false,
     "title": ""
    }
   },
   "outputs": [],
   "source": [
    "import slack_sdk"
   ]
  },
  {
   "cell_type": "code",
   "execution_count": null,
   "metadata": {
    "application/vnd.databricks.v1+cell": {
     "cellMetadata": {
      "byteLimit": 2048000,
      "rowLimit": 10000
     },
     "inputWidgets": {},
     "nuid": "2b9d4b5c-e33a-4280-884a-43fc1e0e98d5",
     "showTitle": false,
     "title": ""
    }
   },
   "outputs": [],
   "source": [
    "from slack_sdk import WebClient"
   ]
  },
  {
   "cell_type": "code",
   "execution_count": null,
   "metadata": {
    "application/vnd.databricks.v1+cell": {
     "cellMetadata": {
      "byteLimit": 2048000,
      "rowLimit": 10000
     },
     "inputWidgets": {},
     "nuid": "011e8d86-cb83-439b-b420-7c15191f413b",
     "showTitle": false,
     "title": ""
    }
   },
   "outputs": [],
   "source": [
    "slack_token = \"inserir código\"\n",
    "client = WebClient(token=slack_token)"
   ]
  },
  {
   "cell_type": "code",
   "execution_count": null,
   "metadata": {
    "application/vnd.databricks.v1+cell": {
     "cellMetadata": {
      "byteLimit": 2048000,
      "rowLimit": 10000
     },
     "inputWidgets": {},
     "nuid": "46444ccb-5d31-490d-a6a2-d0b86c3b664b",
     "showTitle": false,
     "title": ""
    }
   },
   "outputs": [
    {
     "data": {
      "text/plain": [
       "'part-00000-tid-8194457455347901782-f3e959f4-84c3-49fa-96e9-34d9c0c953e3-947-1-c000.csv'"
      ]
     },
     "execution_count": 40,
     "metadata": {},
     "output_type": "execute_result"
    }
   ],
   "source": [
    "nome_arquivo = dbutils.fs.ls(\"dbfs:/databricks-results/prata/valores_reais/\")[-1].name"
   ]
  },
  {
   "cell_type": "code",
   "execution_count": null,
   "metadata": {
    "application/vnd.databricks.v1+cell": {
     "cellMetadata": {
      "byteLimit": 2048000,
      "rowLimit": 10000
     },
     "inputWidgets": {},
     "nuid": "48750516-af32-4102-8ed9-74308e2fb074",
     "showTitle": false,
     "title": ""
    }
   },
   "outputs": [
    {
     "name": "stdout",
     "output_type": "stream",
     "text": [
      "FileStore  Volumes     databricks-datasets  volume\r\n",
      "Volume\t   databricks  databricks-results   volumes\r\n"
     ]
    }
   ],
   "source": [
    "# obtendo uma visão geral do conteúdo disponível no DBFS\n",
    "!ls /dbfs/"
   ]
  },
  {
   "cell_type": "code",
   "execution_count": null,
   "metadata": {
    "application/vnd.databricks.v1+cell": {
     "cellMetadata": {
      "byteLimit": 2048000,
      "rowLimit": 10000
     },
     "inputWidgets": {},
     "nuid": "deda0209-1ac5-455c-9e16-a9c01359768a",
     "showTitle": false,
     "title": ""
    }
   },
   "outputs": [
    {
     "data": {
      "text/plain": [
       "'/dbfs/databricks-results/prata/valores_reais/part-00000-tid-8194457455347901782-f3e959f4-84c3-49fa-96e9-34d9c0c953e3-947-1-c000.csv'"
      ]
     },
     "execution_count": 43,
     "metadata": {},
     "output_type": "execute_result"
    }
   ],
   "source": [
    "path =  \"/dbfs/databricks-results/prata/valores_reais/\" + nome_arquivo"
   ]
  },
  {
   "cell_type": "code",
   "execution_count": null,
   "metadata": {
    "application/vnd.databricks.v1+cell": {
     "cellMetadata": {
      "byteLimit": 2048000,
      "rowLimit": 10000
     },
     "inputWidgets": {},
     "nuid": "d01fb292-26f7-4219-8a78-88234af48420",
     "showTitle": false,
     "title": ""
    }
   },
   "outputs": [],
   "source": [
    "enviando_arquivo_csv = client.files_upload_v2(\n",
    "    channel=\"xxxx\",  \n",
    "    title=\"Arquivo no formato CSV do valor do real convertido\",\n",
    "    file=path,\n",
    "    filename=\"valores_reais.csv\",\n",
    "    initial_comment=\"Segue anexo o arquivo CSV:\"\n",
    "    )"
   ]
  },
  {
   "cell_type": "code",
   "execution_count": null,
   "metadata": {
    "application/vnd.databricks.v1+cell": {
     "cellMetadata": {
      "byteLimit": 2048000,
      "rowLimit": 10000
     },
     "inputWidgets": {},
     "nuid": "06daef6c-0232-468c-ab25-d0bd92bd514f",
     "showTitle": false,
     "title": ""
    }
   },
   "outputs": [],
   "source": [
    "import pyspark.pandas as ps"
   ]
  },
  {
   "cell_type": "code",
   "execution_count": null,
   "metadata": {
    "application/vnd.databricks.v1+cell": {
     "cellMetadata": {
      "byteLimit": 2048000,
      "rowLimit": 10000
     },
     "inputWidgets": {},
     "nuid": "e19b1c68-fccd-45c3-80ff-00601c0aafc4",
     "showTitle": false,
     "title": ""
    }
   },
   "outputs": [
    {
     "data": {
      "text/html": [
       "<div>\n",
       "<style scoped>\n",
       "    .dataframe tbody tr th:only-of-type {\n",
       "        vertical-align: middle;\n",
       "    }\n",
       "\n",
       "    .dataframe tbody tr th {\n",
       "        vertical-align: top;\n",
       "    }\n",
       "\n",
       "    .dataframe thead th {\n",
       "        text-align: right;\n",
       "    }\n",
       "</style>\n",
       "<table border=\"1\" class=\"dataframe\">\n",
       "  <thead>\n",
       "    <tr style=\"text-align: right;\">\n",
       "      <th></th>\n",
       "      <th>data</th>\n",
       "      <th>EUR</th>\n",
       "      <th>GBP</th>\n",
       "      <th>USD</th>\n",
       "    </tr>\n",
       "  </thead>\n",
       "  <tbody>\n",
       "    <tr>\n",
       "      <th>0</th>\n",
       "      <td>2024-04-04</td>\n",
       "      <td>5.4760</td>\n",
       "      <td>6.3873</td>\n",
       "      <td>5.0527</td>\n",
       "    </tr>\n",
       "    <tr>\n",
       "      <th>1</th>\n",
       "      <td>2024-04-03</td>\n",
       "      <td>5.4626</td>\n",
       "      <td>6.3771</td>\n",
       "      <td>5.0401</td>\n",
       "    </tr>\n",
       "    <tr>\n",
       "      <th>2</th>\n",
       "      <td>2024-04-02</td>\n",
       "      <td>5.4550</td>\n",
       "      <td>6.3711</td>\n",
       "      <td>5.0659</td>\n",
       "    </tr>\n",
       "    <tr>\n",
       "      <th>3</th>\n",
       "      <td>2024-04-01</td>\n",
       "      <td>5.4276</td>\n",
       "      <td>6.3415</td>\n",
       "      <td>5.0551</td>\n",
       "    </tr>\n",
       "    <tr>\n",
       "      <th>4</th>\n",
       "      <td>2024-03-31</td>\n",
       "      <td>5.4121</td>\n",
       "      <td>6.3370</td>\n",
       "      <td>5.0147</td>\n",
       "    </tr>\n",
       "  </tbody>\n",
       "</table>\n",
       "</div>"
      ],
      "text/plain": [
       "         data     EUR     GBP     USD\n",
       "0  2024-04-04  5.4760  6.3873  5.0527\n",
       "1  2024-04-03  5.4626  6.3771  5.0401\n",
       "2  2024-04-02  5.4550  6.3711  5.0659\n",
       "3  2024-04-01  5.4276  6.3415  5.0551\n",
       "4  2024-03-31  5.4121  6.3370  5.0147"
      ]
     },
     "execution_count": 49,
     "metadata": {},
     "output_type": "execute_result"
    }
   ],
   "source": [
    "df_valores_em_reais = ps.read_csv('dbfs:/databricks-results/prata/valores_reais/')\n",
    "df_valores_em_reais.head()"
   ]
  },
  {
   "cell_type": "code",
   "execution_count": null,
   "metadata": {
    "application/vnd.databricks.v1+cell": {
     "cellMetadata": {
      "byteLimit": 2048000,
      "rowLimit": 10000
     },
     "inputWidgets": {},
     "nuid": "9a678920-06ca-4129-a802-f839e4389fe7",
     "showTitle": false,
     "title": ""
    }
   },
   "outputs": [],
   "source": [
    "!mkdir imagens"
   ]
  },
  {
   "cell_type": "code",
   "execution_count": null,
   "metadata": {
    "application/vnd.databricks.v1+cell": {
     "cellMetadata": {
      "byteLimit": 2048000,
      "rowLimit": 10000
     },
     "inputWidgets": {},
     "nuid": "4f5b012e-b62a-4a5d-92ff-09782a60bb68",
     "showTitle": false,
     "title": ""
    }
   },
   "outputs": [
    {
     "name": "stdout",
     "output_type": "stream",
     "text": [
      " 00-extraindo-dados-codigo-livre        03-automatizando-relatorio\r\n",
      " 01-extraindo-dados-codigo-refatorado  'Hello Airflow'\r\n",
      " 02-transformando-dados\t\t        imagens\r\n",
      " 02-transformando-dados-refatorado\r\n"
     ]
    }
   ],
   "source": [
    "!ls"
   ]
  },
  {
   "cell_type": "code",
   "execution_count": null,
   "metadata": {
    "application/vnd.databricks.v1+cell": {
     "cellMetadata": {
      "byteLimit": 2048000,
      "rowLimit": 10000
     },
     "inputWidgets": {},
     "nuid": "98224a2d-df32-4638-9a6f-5be251191f91",
     "showTitle": false,
     "title": ""
    }
   },
   "outputs": [
    {
     "data": {
      "text/plain": [
       "Index(['EUR', 'GBP', 'USD'], dtype='object')"
      ]
     },
     "execution_count": 54,
     "metadata": {},
     "output_type": "execute_result"
    }
   ],
   "source": [
    "df_valores_em_reais.columns[1:]"
   ]
  },
  {
   "cell_type": "code",
   "execution_count": null,
   "metadata": {
    "application/vnd.databricks.v1+cell": {
     "cellMetadata": {
      "byteLimit": 2048000,
      "rowLimit": 10000
     },
     "inputWidgets": {},
     "nuid": "da501cb3-709e-43ea-bfb5-c58f2df0c96a",
     "showTitle": false,
     "title": ""
    }
   },
   "outputs": [],
   "source": [
    "for moeda in df_valores_em_reais.columns[1:]:\n",
    "    fig = df_valores_em_reais.plot.line(x='data', y=moeda)\n",
    "    fig.write_image(f\"./imagens/{moeda}.png\")"
   ]
  },
  {
   "cell_type": "code",
   "execution_count": null,
   "metadata": {
    "application/vnd.databricks.v1+cell": {
     "cellMetadata": {
      "byteLimit": 2048000,
      "rowLimit": 10000
     },
     "inputWidgets": {},
     "nuid": "bb360f20-734a-4d88-9ca4-f13afe697dea",
     "showTitle": false,
     "title": ""
    }
   },
   "outputs": [
    {
     "name": "stdout",
     "output_type": "stream",
     "text": [
      "EUR.png  GBP.png  USD.png\r\n"
     ]
    }
   ],
   "source": [
    "!ls ./imagens"
   ]
  },
  {
   "cell_type": "code",
   "execution_count": null,
   "metadata": {
    "application/vnd.databricks.v1+cell": {
     "cellMetadata": {
      "byteLimit": 2048000,
      "rowLimit": 10000
     },
     "inputWidgets": {},
     "nuid": "70668e82-ad54-420c-9c7d-c6e710f8c3d0",
     "showTitle": false,
     "title": ""
    }
   },
   "outputs": [],
   "source": [
    "def enviando_imagens(moeda_cotacao):\n",
    "    enviando_imagens = client.files_upload_v2(\n",
    "        channel=\"xxxxx\",  \n",
    "        title=\"Enviando imagens de cotações\",\n",
    "        file=f'./imagens/{moeda_cotacao}.png'\n",
    "    )"
   ]
  },
  {
   "cell_type": "code",
   "execution_count": null,
   "metadata": {
    "application/vnd.databricks.v1+cell": {
     "cellMetadata": {
      "byteLimit": 2048000,
      "rowLimit": 10000
     },
     "inputWidgets": {},
     "nuid": "d189f4a3-7f52-44da-8791-9a001f937606",
     "showTitle": false,
     "title": ""
    }
   },
   "outputs": [],
   "source": [
    "for moeda in df_valores_em_reais.columns[1:]:\n",
    "    enviando_imagens(moeda)"
   ]
  }
 ],
 "metadata": {
  "application/vnd.databricks.v1+notebook": {
   "dashboards": [],
   "language": "python",
   "notebookMetadata": {
    "pythonIndentUnit": 4
   },
   "notebookName": "03-automatizando-relatorio",
   "widgets": {}
  },
  "language_info": {
   "name": "python"
  }
 },
 "nbformat": 4,
 "nbformat_minor": 0
}
