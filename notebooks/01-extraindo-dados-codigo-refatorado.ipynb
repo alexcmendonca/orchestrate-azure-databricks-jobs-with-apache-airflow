{
 "cells": [
  {
   "cell_type": "code",
   "execution_count": null,
   "metadata": {
    "application/vnd.databricks.v1+cell": {
     "cellMetadata": {
      "byteLimit": 2048000,
      "rowLimit": 10000
     },
     "inputWidgets": {},
     "nuid": "d1b76044-4c00-4ee0-b6de-c46c9119c8ca",
     "showTitle": false,
     "title": ""
    }
   },
   "outputs": [],
   "source": [
    "dbutils.widgets.text(\"data_execucao\", \"\")\n",
    "data_execucao = dbutils.widgets.get(\"data_execucao\")"
   ]
  },
  {
   "cell_type": "code",
   "execution_count": null,
   "metadata": {
    "application/vnd.databricks.v1+cell": {
     "cellMetadata": {
      "byteLimit": 2048000,
      "rowLimit": 10000
     },
     "inputWidgets": {},
     "nuid": "ba2a4adb-c214-4e05-be15-2bd8f8475a29",
     "showTitle": false,
     "title": ""
    }
   },
   "outputs": [],
   "source": [
    "import requests\n",
    "from pyspark.sql.functions import lit\n"
   ]
  },
  {
   "cell_type": "code",
   "execution_count": null,
   "metadata": {
    "application/vnd.databricks.v1+cell": {
     "cellMetadata": {
      "byteLimit": 2048000,
      "rowLimit": 10000
     },
     "inputWidgets": {},
     "nuid": "e0433474-5fbc-44f8-a643-1e4991df7237",
     "showTitle": false,
     "title": ""
    }
   },
   "outputs": [],
   "source": [
    "# Extraindo dados da API\n",
    "\n",
    "# definindo função que faz solicitação de dados para uma API de taxas de câmbio\n",
    "def extraindo_dados(date, base=\"BRL\"):\n",
    "\n",
    "    #  construindo URL da API concatenando a data e a moeda base fornecidas como parâmetros\n",
    "    url = f\"https://api.apilayer.com/exchangerates_data/{date}?base={base}\"\n",
    "\n",
    "    # cabeçalhos da solicitação HTTP, incluindo a chave de API.\n",
    "    headers= {\n",
    "    \"apikey\": \"inserir código\"\n",
    "    }\n",
    "\n",
    "    # parâmetros da solicitação, incluindo a moeda base e os símbolos das moedas desejadas para retorno.\n",
    "    parametros = {\n",
    "        \"base\": base,\n",
    "        \"symbols\": \"USD, GBP, EUR, JPY, CNY, CAD, ZAR, ARS \" # Escolhendo as moedas de retorno\n",
    "        }\n",
    "\n",
    "    # envia solicitação HTTP GET para a URL da API, passando os cabeçalhos e os parâmetros definidos\n",
    "    response = requests.request(\"GET\", url, headers=headers, params=parametros)\n",
    "\n",
    "    # verifica se a resposta da solicitação tem um código de status 200 (indicando uma resposta bem-sucedida)\n",
    "    if response.status_code != 200:\n",
    "        raise Exception(\"Não consegui extrair dados!!!\") # se houver erro, exceção é levantada com uma mensagem\n",
    "\n",
    "    # retorna os dados da resposta da API no formato JSON\n",
    "    return response.json()"
   ]
  },
  {
   "cell_type": "code",
   "execution_count": null,
   "metadata": {
    "application/vnd.databricks.v1+cell": {
     "cellMetadata": {
      "byteLimit": 2048000,
      "rowLimit": 10000
     },
     "inputWidgets": {},
     "nuid": "7b4e750b-ce3c-461a-86e6-77067da7f4a5",
     "showTitle": false,
     "title": ""
    }
   },
   "outputs": [],
   "source": [
    "# função converte os dados de taxas de câmbio no formato JSON para uma lista de tuplas\n",
    "def dados_para_dataframe(dado_json):\n",
    "    dados_tupla = [(moeda, float (taxa)) for moeda, taxa in dado_json['rates'].items()]\n",
    "    return dados_tupla"
   ]
  },
  {
   "cell_type": "code",
   "execution_count": null,
   "metadata": {
    "application/vnd.databricks.v1+cell": {
     "cellMetadata": {
      "byteLimit": 2048000,
      "rowLimit": 10000
     },
     "inputWidgets": {},
     "nuid": "da7a65d1-a383-4524-b4a4-fbf937e0f6af",
     "showTitle": false,
     "title": ""
    }
   },
   "outputs": [],
   "source": [
    "def salvar_arquivo_parquet(conversoes_extraidas):\n",
    "    ano, mes, dia = conversoes_extraidas['date'].split('-')\n",
    "    caminho_completo = f\"dbfs:/databricks-results/bronze/{ano}/{mes}/{dia}\"\n",
    "    response = dados_para_dataframe(conversoes_extraidas)\n",
    "    df_conversoes = spark.createDataFrame(response, schema=['moeda', 'taxa'])\n",
    "    df_conversoes = df_conversoes.withColumn(\"data\", lit(f\"{ano}-{mes}-{dia}\"))\n",
    "    \n",
    "    df_conversoes.write.format(\"parquet\")\\\n",
    "                .mode(\"overwrite\")\\\n",
    "                .save(caminho_completo)\n",
    "\n",
    "    print(f\"Os arquivos foram salvos em {caminho_completo}\")"
   ]
  },
  {
   "cell_type": "code",
   "execution_count": null,
   "metadata": {
    "application/vnd.databricks.v1+cell": {
     "cellMetadata": {
      "byteLimit": 2048000,
      "rowLimit": 10000
     },
     "inputWidgets": {},
     "nuid": "218e224e-9fe2-4bb2-9bef-dc33f419f6b3",
     "showTitle": false,
     "title": ""
    }
   },
   "outputs": [
    {
     "name": "stdout",
     "output_type": "stream",
     "text": [
      "Os arquivos foram salvos em dbfs:/databricks-results/bronze/2024/03/01\n"
     ]
    }
   ],
   "source": [
    "# chamando a função para obter os dados de cotações na data de interesse\n",
    "cotacoes = extraindo_dados(data_execucao)\n",
    "salvar_arquivo_parquet(cotacoes)"
   ]
  },
  {
   "cell_type": "code",
   "execution_count": null,
   "metadata": {
    "application/vnd.databricks.v1+cell": {
     "cellMetadata": {
      "byteLimit": 2048000,
      "rowLimit": 10000
     },
     "inputWidgets": {},
     "nuid": "943deae7-1ebb-4544-b732-26438410c6f6",
     "showTitle": false,
     "title": ""
    }
   },
   "outputs": [
    {
     "data": {
      "text/html": [
       "<style scoped>\n",
       "  .table-result-container {\n",
       "    max-height: 300px;\n",
       "    overflow: auto;\n",
       "  }\n",
       "  table, th, td {\n",
       "    border: 1px solid black;\n",
       "    border-collapse: collapse;\n",
       "  }\n",
       "  th, td {\n",
       "    padding: 5px;\n",
       "  }\n",
       "  th {\n",
       "    text-align: left;\n",
       "  }\n",
       "</style><div class='table-result-container'><table class='table-result'><thead style='background-color: white'><tr><th>path</th><th>name</th><th>size</th><th>modificationTime</th></tr></thead><tbody><tr><td>dbfs:/databricks-results/bronze/</td><td>bronze/</td><td>0</td><td>1711856759000</td></tr></tbody></table></div>"
      ]
     },
     "metadata": {
      "application/vnd.databricks.v1+output": {
       "addedWidgets": {},
       "aggData": [],
       "aggError": "",
       "aggOverflow": false,
       "aggSchema": [],
       "aggSeriesLimitReached": false,
       "aggType": "",
       "arguments": {},
       "columnCustomDisplayInfos": {},
       "data": [
        [
         "dbfs:/databricks-results/bronze/",
         "bronze/",
         0,
         1711856759000
        ]
       ],
       "datasetInfos": [],
       "dbfsResultPath": null,
       "isJsonSchema": true,
       "metadata": {},
       "overflow": false,
       "plotOptions": {
        "customPlotOptions": {},
        "displayType": "table",
        "pivotAggregation": null,
        "pivotColumns": null,
        "xColumns": null,
        "yColumns": null
       },
       "removedWidgets": [],
       "schema": [
        {
         "metadata": "{}",
         "name": "path",
         "type": "\"string\""
        },
        {
         "metadata": "{}",
         "name": "name",
         "type": "\"string\""
        },
        {
         "metadata": "{}",
         "name": "size",
         "type": "\"long\""
        },
        {
         "metadata": "{}",
         "name": "modificationTime",
         "type": "\"long\""
        }
       ],
       "type": "table"
      }
     },
     "output_type": "display_data"
    }
   ],
   "source": [
    "display(dbutils.fs.ls(\"dbfs:/databricks-results/\"))"
   ]
  }
 ],
 "metadata": {
  "application/vnd.databricks.v1+notebook": {
   "dashboards": [],
   "language": "python",
   "notebookMetadata": {
    "pythonIndentUnit": 4
   },
   "notebookName": "01-extraindo-dados-codigo-refatorado",
   "widgets": {}
  },
  "language_info": {
   "name": "python"
  }
 },
 "nbformat": 4,
 "nbformat_minor": 0
}
