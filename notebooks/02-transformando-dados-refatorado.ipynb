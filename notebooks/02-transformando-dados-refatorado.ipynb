{
 "cells": [
  {
   "cell_type": "code",
   "execution_count": 0,
   "metadata": {
    "application/vnd.databricks.v1+cell": {
     "cellMetadata": {},
     "inputWidgets": {},
     "nuid": "452c15ad-cc6b-4578-a403-b7190327eb6a",
     "showTitle": false,
     "title": ""
    }
   },
   "outputs": [],
   "source": [
    "# importação de funções para manipulação de dados no DataFrame do Spark\n",
    "from pyspark.sql.functions import to_date, first, col, round"
   ]
  },
  {
   "cell_type": "code",
   "execution_count": 0,
   "metadata": {
    "application/vnd.databricks.v1+cell": {
     "cellMetadata": {
      "byteLimit": 2048000,
      "rowLimit": 10000
     },
     "inputWidgets": {},
     "nuid": "88bac0b8-a5b1-4586-8a55-42a35e770600",
     "showTitle": false,
     "title": ""
    }
   },
   "outputs": [
    {
     "output_type": "stream",
     "name": "stdout",
     "output_type": "stream",
     "text": [
      "+-----+----------+----------+\n|moeda|      taxa|      data|\n+-----+----------+----------+\n|  USD|  0.201077|2024-02-05|\n|  GBP|  0.160427|2024-02-05|\n|  EUR|  0.187198|2024-02-05|\n|  JPY| 29.889123|2024-02-05|\n|  CNY|  1.431367|2024-02-05|\n|  CAD|  0.272331|2024-02-05|\n|  ZAR|  3.833315|2024-02-05|\n|  ARS|166.702274|2024-02-05|\n|  EUR|  0.187288|2024-02-06|\n|  JPY| 29.779429|2024-02-06|\n|  CNY|  1.432392|2024-02-06|\n|  CAD|  0.271765|2024-02-06|\n|  ZAR|  3.793992|2024-02-06|\n|  ARS|167.106885|2024-02-06|\n|  USD|  0.201175|2024-02-07|\n|  GBP|  0.159326|2024-02-07|\n|  EUR|  0.186701|2024-02-07|\n|  JPY| 29.792147|2024-02-07|\n|  CNY|  1.430573|2024-02-07|\n|  CAD|  0.270912|2024-02-07|\n+-----+----------+----------+\nonly showing top 20 rows\n\n"
     ]
    }
   ],
   "source": [
    "# exibindo os primeiros registros de todos os subdiretórios e arquivos dentro da pasta 'bronze'\n",
    "spark.read.parquet(\"dbfs:/databricks-results/bronze/*/*/*\")"
   ]
  },
  {
   "cell_type": "code",
   "execution_count": 0,
   "metadata": {
    "application/vnd.databricks.v1+cell": {
     "cellMetadata": {
      "byteLimit": 2048000,
      "rowLimit": 10000
     },
     "inputWidgets": {},
     "nuid": "2ae97f41-957e-491b-9ec7-ad587f4b9a46",
     "showTitle": false,
     "title": ""
    }
   },
   "outputs": [
    {
     "output_type": "stream",
     "name": "stdout",
     "output_type": "stream",
     "text": [
      "+-----+---------+----------+\n|moeda|     taxa|      data|\n+-----+---------+----------+\n|  USD| 0.201077|2024-02-05|\n|  GBP| 0.160427|2024-02-05|\n|  EUR| 0.187198|2024-02-05|\n|  JPY|29.889123|2024-02-05|\n|  CNY| 1.431367|2024-02-05|\n+-----+---------+----------+\nonly showing top 5 rows\n\n"
     ]
    }
   ],
   "source": [
    "df_dados_juntos = spark.read.parquet(\"dbfs:/databricks-results/bronze/*/*/*\")"
   ]
  },
  {
   "cell_type": "code",
   "execution_count": 0,
   "metadata": {
    "application/vnd.databricks.v1+cell": {
     "cellMetadata": {
      "byteLimit": 2048000,
      "rowLimit": 10000
     },
     "inputWidgets": {},
     "nuid": "50651e15-d653-4cab-b262-89084229f7c4",
     "showTitle": false,
     "title": ""
    }
   },
   "outputs": [
    {
     "output_type": "stream",
     "name": "stdout",
     "output_type": "stream",
     "text": [
      "+-----+--------+----------+\n|moeda|    taxa|      data|\n+-----+--------+----------+\n|  USD|0.201077|2024-02-05|\n|  GBP|0.160427|2024-02-05|\n|  EUR|0.187198|2024-02-05|\n|  EUR|0.187288|2024-02-06|\n|  USD|0.201175|2024-02-07|\n+-----+--------+----------+\nonly showing top 5 rows\n\n"
     ]
    }
   ],
   "source": [
    "# filtrando conjunto de dados com apenas três moedas \n",
    "moedas = ['USD', 'EUR', 'GBP']\n",
    "\n",
    "df_moedas = df_dados_juntos.filter(df_dados_juntos.moeda.isin(moedas))"
   ]
  },
  {
   "cell_type": "code",
   "execution_count": 0,
   "metadata": {
    "application/vnd.databricks.v1+cell": {
     "cellMetadata": {
      "byteLimit": 2048000,
      "rowLimit": 10000
     },
     "inputWidgets": {},
     "nuid": "b32708c4-a11f-45f4-b3c3-914eeefeda65",
     "showTitle": false,
     "title": ""
    }
   },
   "outputs": [],
   "source": [
    "# convertendo os valores na coluna 'data' de string para date\n",
    "df_moedas = df_moedas.withColumn(\"data\", to_date(\"data\"))"
   ]
  },
  {
   "cell_type": "code",
   "execution_count": 0,
   "metadata": {
    "application/vnd.databricks.v1+cell": {
     "cellMetadata": {
      "byteLimit": 2048000,
      "rowLimit": 10000
     },
     "inputWidgets": {},
     "nuid": "d6081b02-6219-4222-a31f-5a342e75fa00",
     "showTitle": false,
     "title": ""
    }
   },
   "outputs": [
    {
     "output_type": "stream",
     "name": "stdout",
     "output_type": "stream",
     "text": [
      "+----------+--------+--------+--------+\n|      data|     EUR|     GBP|     USD|\n+----------+--------+--------+--------+\n|2024-04-04| 0.18374|0.157575|0.199664|\n|2024-04-03|0.183063|0.156812|0.198409|\n|2024-04-02|0.183317|0.156959|0.197398|\n|2024-04-01|0.184242|0.157692| 0.19782|\n|2024-03-31|0.184771|0.157804|0.199414|\n|2024-03-30|0.184629|0.157923|0.199394|\n|2024-03-27|0.185265|0.158791|0.200329|\n|2024-03-25|0.185512|0.159099|0.201058|\n|2024-03-24|0.184969|0.158678|0.199904|\n|2024-03-23|0.185875|0.160247|0.201927|\n|2024-03-22|0.183994|0.158625|0.199884|\n|2024-03-21|0.185018|0.158734|0.200966|\n|2024-03-20|0.184056|0.157292|  0.2013|\n|2024-03-19|0.182958|0.156266|0.198748|\n|2024-03-18|0.182815|0.156195|0.198784|\n|2024-03-17|0.184115|0.157381|0.200361|\n|2024-03-16|0.183642| 0.15721|0.200144|\n|2024-03-15|0.183642|0.157185|0.200144|\n|2024-03-14|0.183984|0.157103|0.200232|\n|2024-03-12|0.184126|0.157247|0.201203|\n+----------+--------+--------+--------+\nonly showing top 20 rows\n\n"
     ]
    }
   ],
   "source": [
    "# informando o valor de cada taxa das 3 moedas por data ordenados por data de forma descendente\n",
    "resultado_taxas_conversao = df_moedas.groupBy('data')\\\n",
    "                                    .pivot('moeda')\\\n",
    "                                    .agg(first('taxa'))\\\n",
    "                                    .orderBy('data', ascending=False)"
   ]
  },
  {
   "cell_type": "code",
   "execution_count": 0,
   "metadata": {
    "application/vnd.databricks.v1+cell": {
     "cellMetadata": {
      "byteLimit": 2048000,
      "rowLimit": 10000
     },
     "inputWidgets": {},
     "nuid": "3c473d73-ee22-45f6-a367-ccc9e1371814",
     "showTitle": false,
     "title": ""
    }
   },
   "outputs": [
    {
     "output_type": "stream",
     "name": "stdout",
     "output_type": "stream",
     "text": [
      "+----------+--------+--------+--------+\n|      data|     EUR|     GBP|     USD|\n+----------+--------+--------+--------+\n|2024-04-04| 0.18374|0.157575|0.199664|\n|2024-04-03|0.183063|0.156812|0.198409|\n|2024-04-02|0.183317|0.156959|0.197398|\n|2024-04-01|0.184242|0.157692| 0.19782|\n|2024-03-31|0.184771|0.157804|0.199414|\n+----------+--------+--------+--------+\nonly showing top 5 rows\n\n"
     ]
    }
   ],
   "source": [
    "# selecionando todas as colunas de um dataframe e criando um novo df com os mesmo dados\n",
    "resultado_valores_em_reais = resultado_taxas_conversao.select('*')"
   ]
  },
  {
   "cell_type": "code",
   "execution_count": 0,
   "metadata": {
    "application/vnd.databricks.v1+cell": {
     "cellMetadata": {
      "byteLimit": 2048000,
      "rowLimit": 10000
     },
     "inputWidgets": {},
     "nuid": "31acefaa-282f-4853-b8a5-d997f8deb830",
     "showTitle": false,
     "title": ""
    }
   },
   "outputs": [],
   "source": [
    "# calculando o valor equivalente em R$ para cada moeda disponível no dataframe\n",
    "for moeda in moedas:\n",
    "    resultado_valores_em_reais = resultado_valores_em_reais\\\n",
    "                                    .withColumn(\n",
    "                                        moeda, round(1/col(moeda), 4)\n",
    "                                    )"
   ]
  },
  {
   "cell_type": "code",
   "execution_count": 0,
   "metadata": {
    "application/vnd.databricks.v1+cell": {
     "cellMetadata": {
      "byteLimit": 2048000,
      "rowLimit": 10000
     },
     "inputWidgets": {},
     "nuid": "c61eeea6-81e0-44e5-a9e8-a2aa3e6d0d86",
     "showTitle": false,
     "title": ""
    }
   },
   "outputs": [],
   "source": [
    "# diminuindo o número de partições do dataframe para 1, simplificando e garantindo neste projeto a geração de um único arquivo de saída\n",
    "resultado_taxas_conversao = resultado_taxas_conversao.coalesce(1)\n",
    "resultado_valores_em_reais = resultado_valores_em_reais.coalesce(1)"
   ]
  },
  {
   "cell_type": "code",
   "execution_count": 0,
   "metadata": {
    "application/vnd.databricks.v1+cell": {
     "cellMetadata": {
      "byteLimit": 2048000,
      "rowLimit": 10000
     },
     "inputWidgets": {},
     "nuid": "d6d36a44-e17d-406f-a365-809a9f5da249",
     "showTitle": false,
     "title": ""
    }
   },
   "outputs": [],
   "source": [
    "# salvando dados transformados na camada 'prata'\n",
    "resultado_taxas_conversao.write\\\n",
    "    .mode (\"overwrite\")\\\n",
    "    .format(\"csv\")\\\n",
    "    .option(\"header\", \"true\")\\\n",
    "    .save(\"dbfs:/databricks-results/prata/taxas_conversao\")\n",
    "    \n",
    "resultado_valores_em_reais.write\\\n",
    "    .mode (\"overwrite\")\\\n",
    "    .format(\"csv\")\\\n",
    "    .option(\"header\", \"true\")\\\n",
    "    .save(\"dbfs:/databricks-results/prata/valores_reais\")\n"
   ]
  },
  {
   "cell_type": "code",
   "execution_count": 0,
   "metadata": {
    "application/vnd.databricks.v1+cell": {
     "cellMetadata": {
      "byteLimit": 2048000,
      "rowLimit": 10000
     },
     "inputWidgets": {},
     "nuid": "4128b1c2-2668-4731-b5df-ee87a2c515d2",
     "showTitle": false,
     "title": ""
    }
   },
   "outputs": [
    {
     "output_type": "display_data",
     "data": {
      "text/html": [
       "<style scoped>\n",
       "  .table-result-container {\n",
       "    max-height: 300px;\n",
       "    overflow: auto;\n",
       "  }\n",
       "  table, th, td {\n",
       "    border: 1px solid black;\n",
       "    border-collapse: collapse;\n",
       "  }\n",
       "  th, td {\n",
       "    padding: 5px;\n",
       "  }\n",
       "  th {\n",
       "    text-align: left;\n",
       "  }\n",
       "</style><div class='table-result-container'><table class='table-result'><thead style='background-color: white'><tr><th>path</th><th>name</th><th>size</th><th>modificationTime</th></tr></thead><tbody><tr><td>dbfs:/databricks-results/bronze/2024/04/04/_SUCCESS</td><td>_SUCCESS</td><td>0</td><td>1712263055000</td></tr><tr><td>dbfs:/databricks-results/bronze/2024/04/04/_committed_1206669460558963195</td><td>_committed_1206669460558963195</td><td>424</td><td>1712246715000</td></tr><tr><td>dbfs:/databricks-results/bronze/2024/04/04/_committed_920614296692032253</td><td>_committed_920614296692032253</td><td>830</td><td>1712263054000</td></tr><tr><td>dbfs:/databricks-results/bronze/2024/04/04/_committed_vacuum3431864782692298856</td><td>_committed_vacuum3431864782692298856</td><td>96</td><td>1712263055000</td></tr><tr><td>dbfs:/databricks-results/bronze/2024/04/04/_started_920614296692032253</td><td>_started_920614296692032253</td><td>0</td><td>1712263054000</td></tr><tr><td>dbfs:/databricks-results/bronze/2024/04/04/part-00000-tid-920614296692032253-85e15ddc-e0f0-4dec-914e-1978cf4ba32c-823-1-c000.snappy.parquet</td><td>part-00000-tid-920614296692032253-85e15ddc-e0f0-4dec-914e-1978cf4ba32c-823-1-c000.snappy.parquet</td><td>1039</td><td>1712263054000</td></tr><tr><td>dbfs:/databricks-results/bronze/2024/04/04/part-00001-tid-920614296692032253-85e15ddc-e0f0-4dec-914e-1978cf4ba32c-824-1-c000.snappy.parquet</td><td>part-00001-tid-920614296692032253-85e15ddc-e0f0-4dec-914e-1978cf4ba32c-824-1-c000.snappy.parquet</td><td>1039</td><td>1712263054000</td></tr><tr><td>dbfs:/databricks-results/bronze/2024/04/04/part-00002-tid-920614296692032253-85e15ddc-e0f0-4dec-914e-1978cf4ba32c-825-1-c000.snappy.parquet</td><td>part-00002-tid-920614296692032253-85e15ddc-e0f0-4dec-914e-1978cf4ba32c-825-1-c000.snappy.parquet</td><td>1039</td><td>1712263054000</td></tr><tr><td>dbfs:/databricks-results/bronze/2024/04/04/part-00003-tid-920614296692032253-85e15ddc-e0f0-4dec-914e-1978cf4ba32c-826-1-c000.snappy.parquet</td><td>part-00003-tid-920614296692032253-85e15ddc-e0f0-4dec-914e-1978cf4ba32c-826-1-c000.snappy.parquet</td><td>1039</td><td>1712263054000</td></tr></tbody></table></div>"
      ]
     },
     "metadata": {
      "application/vnd.databricks.v1+output": {
       "addedWidgets": {},
       "aggData": [],
       "aggError": "",
       "aggOverflow": false,
       "aggSchema": [],
       "aggSeriesLimitReached": false,
       "aggType": "",
       "arguments": {},
       "columnCustomDisplayInfos": {},
       "data": [
        [
         "dbfs:/databricks-results/bronze/2024/04/04/_SUCCESS",
         "_SUCCESS",
         0,
         1712263055000
        ],
        [
         "dbfs:/databricks-results/bronze/2024/04/04/_committed_1206669460558963195",
         "_committed_1206669460558963195",
         424,
         1712246715000
        ],
        [
         "dbfs:/databricks-results/bronze/2024/04/04/_committed_920614296692032253",
         "_committed_920614296692032253",
         830,
         1712263054000
        ],
        [
         "dbfs:/databricks-results/bronze/2024/04/04/_committed_vacuum3431864782692298856",
         "_committed_vacuum3431864782692298856",
         96,
         1712263055000
        ],
        [
         "dbfs:/databricks-results/bronze/2024/04/04/_started_920614296692032253",
         "_started_920614296692032253",
         0,
         1712263054000
        ],
        [
         "dbfs:/databricks-results/bronze/2024/04/04/part-00000-tid-920614296692032253-85e15ddc-e0f0-4dec-914e-1978cf4ba32c-823-1-c000.snappy.parquet",
         "part-00000-tid-920614296692032253-85e15ddc-e0f0-4dec-914e-1978cf4ba32c-823-1-c000.snappy.parquet",
         1039,
         1712263054000
        ],
        [
         "dbfs:/databricks-results/bronze/2024/04/04/part-00001-tid-920614296692032253-85e15ddc-e0f0-4dec-914e-1978cf4ba32c-824-1-c000.snappy.parquet",
         "part-00001-tid-920614296692032253-85e15ddc-e0f0-4dec-914e-1978cf4ba32c-824-1-c000.snappy.parquet",
         1039,
         1712263054000
        ],
        [
         "dbfs:/databricks-results/bronze/2024/04/04/part-00002-tid-920614296692032253-85e15ddc-e0f0-4dec-914e-1978cf4ba32c-825-1-c000.snappy.parquet",
         "part-00002-tid-920614296692032253-85e15ddc-e0f0-4dec-914e-1978cf4ba32c-825-1-c000.snappy.parquet",
         1039,
         1712263054000
        ],
        [
         "dbfs:/databricks-results/bronze/2024/04/04/part-00003-tid-920614296692032253-85e15ddc-e0f0-4dec-914e-1978cf4ba32c-826-1-c000.snappy.parquet",
         "part-00003-tid-920614296692032253-85e15ddc-e0f0-4dec-914e-1978cf4ba32c-826-1-c000.snappy.parquet",
         1039,
         1712263054000
        ]
       ],
       "datasetInfos": [],
       "dbfsResultPath": null,
       "isJsonSchema": true,
       "metadata": {},
       "overflow": false,
       "plotOptions": {
        "customPlotOptions": {},
        "displayType": "table",
        "pivotAggregation": null,
        "pivotColumns": null,
        "xColumns": null,
        "yColumns": null
       },
       "removedWidgets": [],
       "schema": [
        {
         "metadata": "{}",
         "name": "path",
         "type": "\"string\""
        },
        {
         "metadata": "{}",
         "name": "name",
         "type": "\"string\""
        },
        {
         "metadata": "{}",
         "name": "size",
         "type": "\"long\""
        },
        {
         "metadata": "{}",
         "name": "modificationTime",
         "type": "\"long\""
        }
       ],
       "type": "table"
      }
     },
     "output_type": "display_data"
    }
   ],
   "source": [
    "display(dbutils.fs.ls(\"dbfs:/databricks-results/bronze/2024/04/04\"))"
   ]
  }
 ],
 "metadata": {
  "application/vnd.databricks.v1+notebook": {
   "dashboards": [],
   "language": "python",
   "notebookMetadata": {
    "pythonIndentUnit": 4
   },
   "notebookName": "02-transformando-dados-refatorado",
   "widgets": {}
  }
 },
 "nbformat": 4,
 "nbformat_minor": 0
}
