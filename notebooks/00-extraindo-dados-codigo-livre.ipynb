{
 "cells": [
  {
   "cell_type": "code",
   "execution_count": null,
   "metadata": {
    "application/vnd.databricks.v1+cell": {
     "cellMetadata": {
      "byteLimit": 2048000,
      "rowLimit": 10000
     },
     "inputWidgets": {},
     "nuid": "e0433474-5fbc-44f8-a643-1e4991df7237",
     "showTitle": false,
     "title": ""
    }
   },
   "outputs": [],
   "source": [
    "# Extraindo dados da API\n",
    "\n",
    "import requests\n",
    "\n",
    "# definindo função que faz solicitação de dados para uma API de taxas de câmbio\n",
    "def extraindo_dados(date, base=\"BRL\"):\n",
    "\n",
    "    #  construindo URL da API concatenando a data e a moeda base fornecidas como parâmetros\n",
    "    url = f\"https://api.apilayer.com/exchangerates_data/{date}?base={base}\"\n",
    "\n",
    "    # cabeçalhos da solicitação HTTP, incluindo a chave de API.\n",
    "    headers= {\n",
    "    \"apikey\": \"inserir códio\"\n",
    "    }\n",
    "\n",
    "    # parâmetros da solicitação, incluindo a moeda base e os símbolos das moedas desejadas para retorno.\n",
    "    parametros = {\n",
    "        \"base\": base,\n",
    "        \"symbols\": \"USD, GBP, EUR, JPY, CNY, CAD, ZAR, ARS \" # Escolhendo as moedas de retorno\n",
    "        }\n",
    "\n",
    "    # envia solicitação HTTP GET para a URL da API, passando os cabeçalhos e os parâmetros definidos\n",
    "    response = requests.request(\"GET\", url, headers=headers, params=parametros)\n",
    "\n",
    "    # verifica se a resposta da solicitação tem um código de status 200 (indicando uma resposta bem-sucedida)\n",
    "    if response.status_code != 200:\n",
    "        raise Exception(\"Não consegui extrair dados!!!\") # se houver erro, exceção é levantada com uma mensagem\n",
    "\n",
    "    # retorna os dados da resposta da API no formato JSON\n",
    "    return response.json()"
   ]
  },
  {
   "cell_type": "code",
   "execution_count": null,
   "metadata": {
    "application/vnd.databricks.v1+cell": {
     "cellMetadata": {
      "byteLimit": 2048000,
      "rowLimit": 10000
     },
     "inputWidgets": {},
     "nuid": "8ffdf59a-a07c-4beb-8246-b63b30065757",
     "showTitle": false,
     "title": ""
    }
   },
   "outputs": [
    {
     "data": {
      "text/plain": [
       "{'success': True,\n",
       " 'timestamp': 1672963199,\n",
       " 'historical': True,\n",
       " 'base': 'BRL',\n",
       " 'date': '2023-01-05',\n",
       " 'rates': {'USD': 0.18687,\n",
       "  'GBP': 0.156891,\n",
       "  'EUR': 0.177601,\n",
       "  'JPY': 24.911685,\n",
       "  'CNY': 1.286136,\n",
       "  'CAD': 0.253421,\n",
       "  'ZAR': 3.207799,\n",
       "  'ARS': 33.432882}}"
      ]
     },
     "execution_count": 59,
     "metadata": {},
     "output_type": "execute_result"
    }
   ],
   "source": [
    "# chamando função solicitando dados de taxas de câmbio para data de interesse\n",
    "extraindo_dados(\"2023-01-05\")"
   ]
  },
  {
   "cell_type": "code",
   "execution_count": null,
   "metadata": {
    "application/vnd.databricks.v1+cell": {
     "cellMetadata": {
      "byteLimit": 2048000,
      "rowLimit": 10000
     },
     "inputWidgets": {},
     "nuid": "b32f2216-ec86-4b77-9ff9-8f848602acf5",
     "showTitle": false,
     "title": ""
    }
   },
   "outputs": [
    {
     "data": {
      "text/plain": [
       "'2023-01-05'"
      ]
     },
     "execution_count": 60,
     "metadata": {},
     "output_type": "execute_result"
    }
   ],
   "source": [
    "# retorna a data para a qual foram solicitadas as taxas de câmbio\n",
    "extraindo_dados(\"2023-01-05\")['date']"
   ]
  },
  {
   "cell_type": "code",
   "execution_count": null,
   "metadata": {
    "application/vnd.databricks.v1+cell": {
     "cellMetadata": {
      "byteLimit": 2048000,
      "rowLimit": 10000
     },
     "inputWidgets": {},
     "nuid": "24c429c1-378f-444a-bc6b-d7c6ff952339",
     "showTitle": false,
     "title": ""
    }
   },
   "outputs": [
    {
     "name": "stdout",
     "output_type": "stream",
     "text": [
      "2023 01 05\n"
     ]
    }
   ],
   "source": [
    "# extraindo o ano, mês e dia da data retornada pela função\n",
    "ano, mes, dia = extraindo_dados(\"2023-01-05\")['date'].split('-')\n",
    "print(ano, mes, dia)"
   ]
  },
  {
   "cell_type": "code",
   "execution_count": null,
   "metadata": {
    "application/vnd.databricks.v1+cell": {
     "cellMetadata": {
      "byteLimit": 2048000,
      "rowLimit": 10000
     },
     "inputWidgets": {},
     "nuid": "b3a8df67-bc7b-4143-bb88-1ce46a529ebd",
     "showTitle": false,
     "title": ""
    }
   },
   "outputs": [
    {
     "data": {
      "text/html": [
       "<style scoped>\n",
       "  .table-result-container {\n",
       "    max-height: 300px;\n",
       "    overflow: auto;\n",
       "  }\n",
       "  table, th, td {\n",
       "    border: 1px solid black;\n",
       "    border-collapse: collapse;\n",
       "  }\n",
       "  th, td {\n",
       "    padding: 5px;\n",
       "  }\n",
       "  th {\n",
       "    text-align: left;\n",
       "  }\n",
       "</style><div class='table-result-container'><table class='table-result'><thead style='background-color: white'><tr><th>path</th><th>name</th><th>size</th><th>modificationTime</th></tr></thead><tbody><tr><td>dbfs:/Volume/</td><td>Volume/</td><td>0</td><td>0</td></tr><tr><td>dbfs:/Volumes/</td><td>Volumes/</td><td>0</td><td>0</td></tr><tr><td>dbfs:/databricks-datasets/</td><td>databricks-datasets/</td><td>0</td><td>0</td></tr><tr><td>dbfs:/databricks-results/</td><td>databricks-results/</td><td>0</td><td>0</td></tr><tr><td>dbfs:/volume/</td><td>volume/</td><td>0</td><td>0</td></tr><tr><td>dbfs:/volumes/</td><td>volumes/</td><td>0</td><td>0</td></tr></tbody></table></div>"
      ]
     },
     "metadata": {
      "application/vnd.databricks.v1+output": {
       "addedWidgets": {},
       "aggData": [],
       "aggError": "",
       "aggOverflow": false,
       "aggSchema": [],
       "aggSeriesLimitReached": false,
       "aggType": "",
       "arguments": {},
       "columnCustomDisplayInfos": {},
       "data": [
        [
         "dbfs:/Volume/",
         "Volume/",
         0,
         0
        ],
        [
         "dbfs:/Volumes/",
         "Volumes/",
         0,
         0
        ],
        [
         "dbfs:/databricks-datasets/",
         "databricks-datasets/",
         0,
         0
        ],
        [
         "dbfs:/databricks-results/",
         "databricks-results/",
         0,
         0
        ],
        [
         "dbfs:/volume/",
         "volume/",
         0,
         0
        ],
        [
         "dbfs:/volumes/",
         "volumes/",
         0,
         0
        ]
       ],
       "datasetInfos": [],
       "dbfsResultPath": null,
       "isJsonSchema": true,
       "metadata": {},
       "overflow": false,
       "plotOptions": {
        "customPlotOptions": {},
        "displayType": "table",
        "pivotAggregation": null,
        "pivotColumns": null,
        "xColumns": null,
        "yColumns": null
       },
       "removedWidgets": [],
       "schema": [
        {
         "metadata": "{}",
         "name": "path",
         "type": "\"string\""
        },
        {
         "metadata": "{}",
         "name": "name",
         "type": "\"string\""
        },
        {
         "metadata": "{}",
         "name": "size",
         "type": "\"long\""
        },
        {
         "metadata": "{}",
         "name": "modificationTime",
         "type": "\"long\""
        }
       ],
       "type": "table"
      }
     },
     "output_type": "display_data"
    }
   ],
   "source": [
    "# lista e exibe visualmente os arquivos no diretório raiz do DBFS\n",
    "display(dbutils.fs.ls('dbfs:/'))"
   ]
  },
  {
   "cell_type": "code",
   "execution_count": null,
   "metadata": {
    "application/vnd.databricks.v1+cell": {
     "cellMetadata": {
      "byteLimit": 2048000,
      "rowLimit": 10000
     },
     "inputWidgets": {},
     "nuid": "7d92b3e6-e78f-4ef5-9538-fbcbde78c5c2",
     "showTitle": false,
     "title": ""
    }
   },
   "outputs": [
    {
     "name": "stdout",
     "output_type": "stream",
     "text": [
      "dbfs:/databricks-results/bronze/2023/01/05\n"
     ]
    }
   ],
   "source": [
    "# criando uma estrutura de diretórios baseadas em data e no contexto de pipeline de dados\n",
    "caminho_completo = f'dbfs:/databricks-results/bronze/{ano}/{mes}/{dia}'\n",
    "print(caminho_completo)"
   ]
  },
  {
   "cell_type": "code",
   "execution_count": null,
   "metadata": {
    "application/vnd.databricks.v1+cell": {
     "cellMetadata": {
      "byteLimit": 2048000,
      "rowLimit": 10000
     },
     "inputWidgets": {},
     "nuid": "7b4e750b-ce3c-461a-86e6-77067da7f4a5",
     "showTitle": false,
     "title": ""
    }
   },
   "outputs": [],
   "source": [
    "# função converte os dados de taxas de câmbio no formato JSON para uma lista de tuplas\n",
    "def dados_para_dataframe(dado_json):\n",
    "    dados_tupla = [(moeda, float (taxa)) for moeda, taxa in dado_json['rates'].items()]\n",
    "    return dados_tupla"
   ]
  },
  {
   "cell_type": "code",
   "execution_count": null,
   "metadata": {
    "application/vnd.databricks.v1+cell": {
     "cellMetadata": {
      "byteLimit": 2048000,
      "rowLimit": 10000
     },
     "inputWidgets": {},
     "nuid": "08898ef2-51cc-4888-8619-4c4bfb0c5b14",
     "showTitle": false,
     "title": ""
    }
   },
   "outputs": [
    {
     "data": {
      "text/plain": [
       "[('USD', 0.18687),\n",
       " ('GBP', 0.156891),\n",
       " ('EUR', 0.177601),\n",
       " ('JPY', 24.911685),\n",
       " ('CNY', 1.286136),\n",
       " ('CAD', 0.253421),\n",
       " ('ZAR', 3.207799),\n",
       " ('ARS', 33.432882)]"
      ]
     },
     "execution_count": 65,
     "metadata": {},
     "output_type": "execute_result"
    }
   ],
   "source": [
    "# executando duas funções para extrair os dados da taxa de câmbio e convertendo para lista de tuplas\n",
    "dados_para_dataframe(extraindo_dados(\"2023-01-05\"))"
   ]
  },
  {
   "cell_type": "code",
   "execution_count": null,
   "metadata": {
    "application/vnd.databricks.v1+cell": {
     "cellMetadata": {
      "byteLimit": 2048000,
      "rowLimit": 10000
     },
     "inputWidgets": {},
     "nuid": "92a9990f-c741-4854-b338-b079513a3e11",
     "showTitle": false,
     "title": ""
    }
   },
   "outputs": [
    {
     "data": {
      "text/plain": [
       "[('USD', 0.190542),\n",
       " ('GBP', 0.165411),\n",
       " ('EUR', 0.19063),\n",
       " ('JPY', 27.462719),\n",
       " ('CNY', 1.32737),\n",
       " ('CAD', 0.250192),\n",
       " ('ZAR', 3.291229),\n",
       " ('ARS', 26.819519)]"
      ]
     },
     "execution_count": 66,
     "metadata": {},
     "output_type": "execute_result"
    }
   ],
   "source": [
    "# guardando resultado na variável\n",
    "response = dados_para_dataframe(extraindo_dados(\"2022-09-07\"))\n",
    "response"
   ]
  },
  {
   "cell_type": "code",
   "execution_count": null,
   "metadata": {
    "application/vnd.databricks.v1+cell": {
     "cellMetadata": {
      "byteLimit": 2048000,
      "rowLimit": 10000
     },
     "inputWidgets": {},
     "nuid": "84705ae3-804e-4d7a-a8e8-1a5c8e68d0f7",
     "showTitle": false,
     "title": ""
    }
   },
   "outputs": [
    {
     "name": "stdout",
     "output_type": "stream",
     "text": [
      "+-----+---------+\n",
      "|moeda|     taxa|\n",
      "+-----+---------+\n",
      "|  USD| 0.190542|\n",
      "|  GBP| 0.165411|\n",
      "|  EUR|  0.19063|\n",
      "|  JPY|27.462719|\n",
      "|  CNY|  1.32737|\n",
      "|  CAD| 0.250192|\n",
      "|  ZAR| 3.291229|\n",
      "|  ARS|26.819519|\n",
      "+-----+---------+\n",
      "\n"
     ]
    }
   ],
   "source": [
    "# Transformando dados em DataFrame Spark\n",
    "df_conversoes = spark.createDataFrame(response, schema=['moeda', 'taxa'])\n",
    "df_conversoes.show()"
   ]
  },
  {
   "cell_type": "code",
   "execution_count": null,
   "metadata": {
    "application/vnd.databricks.v1+cell": {
     "cellMetadata": {
      "byteLimit": 2048000,
      "rowLimit": 10000
     },
     "inputWidgets": {},
     "nuid": "f917351a-15b9-43de-8f24-80a0e6d01473",
     "showTitle": false,
     "title": ""
    }
   },
   "outputs": [
    {
     "name": "stdout",
     "output_type": "stream",
     "text": [
      "+-----+---------+----------+\n",
      "|moeda|     taxa|      data|\n",
      "+-----+---------+----------+\n",
      "|  USD| 0.190542|2023-01-05|\n",
      "|  GBP| 0.165411|2023-01-05|\n",
      "|  EUR|  0.19063|2023-01-05|\n",
      "|  JPY|27.462719|2023-01-05|\n",
      "|  CNY|  1.32737|2023-01-05|\n",
      "|  CAD| 0.250192|2023-01-05|\n",
      "|  ZAR| 3.291229|2023-01-05|\n",
      "|  ARS|26.819519|2023-01-05|\n",
      "+-----+---------+----------+\n",
      "\n"
     ]
    }
   ],
   "source": [
    "# adicionando nova coluna ao dataframe preenchendo com valor literal com a função 'lit'\n",
    "from pyspark.sql.functions import lit\n",
    "\n",
    "df_conversoes = df_conversoes.withColumn(\"data\", lit(f\"{ano}-{mes}-{dia}\"))\n",
    "df_conversoes.show()"
   ]
  },
  {
   "cell_type": "code",
   "execution_count": null,
   "metadata": {
    "application/vnd.databricks.v1+cell": {
     "cellMetadata": {
      "byteLimit": 2048000,
      "rowLimit": 10000
     },
     "inputWidgets": {},
     "nuid": "7f8adf03-0833-4076-b470-27d057140026",
     "showTitle": false,
     "title": ""
    }
   },
   "outputs": [],
   "source": [
    "# salvando dataframe no formato Parquet utilizando o modo 'overwrite'\n",
    "df_conversoes.write.format(\"parquet\")\\\n",
    "    .mode(\"overwrite\")\\\n",
    "    .save(caminho_completo)"
   ]
  },
  {
   "cell_type": "code",
   "execution_count": null,
   "metadata": {
    "application/vnd.databricks.v1+cell": {
     "cellMetadata": {
      "byteLimit": 2048000,
      "rowLimit": 10000
     },
     "inputWidgets": {},
     "nuid": "7aa40d37-1798-49f9-9e3b-f7d99f03c897",
     "showTitle": false,
     "title": ""
    }
   },
   "outputs": [
    {
     "data": {
      "text/html": [
       "<style scoped>\n",
       "  .table-result-container {\n",
       "    max-height: 300px;\n",
       "    overflow: auto;\n",
       "  }\n",
       "  table, th, td {\n",
       "    border: 1px solid black;\n",
       "    border-collapse: collapse;\n",
       "  }\n",
       "  th, td {\n",
       "    padding: 5px;\n",
       "  }\n",
       "  th {\n",
       "    text-align: left;\n",
       "  }\n",
       "</style><div class='table-result-container'><table class='table-result'><thead style='background-color: white'><tr><th>path</th><th>name</th><th>size</th><th>modificationTime</th></tr></thead><tbody><tr><td>dbfs:/databricks-results/bronze/2023/01/05/_SUCCESS</td><td>_SUCCESS</td><td>0</td><td>1711723960000</td></tr><tr><td>dbfs:/databricks-results/bronze/2023/01/05/_committed_597107826751072451</td><td>_committed_597107826751072451</td><td>416</td><td>1711723960000</td></tr><tr><td>dbfs:/databricks-results/bronze/2023/01/05/_started_597107826751072451</td><td>_started_597107826751072451</td><td>0</td><td>1711723959000</td></tr><tr><td>dbfs:/databricks-results/bronze/2023/01/05/part-00000-tid-597107826751072451-66252285-d79e-49c9-990f-de1cab856d0c-68-1-c000.snappy.parquet</td><td>part-00000-tid-597107826751072451-66252285-d79e-49c9-990f-de1cab856d0c-68-1-c000.snappy.parquet</td><td>1039</td><td>1711723960000</td></tr><tr><td>dbfs:/databricks-results/bronze/2023/01/05/part-00001-tid-597107826751072451-66252285-d79e-49c9-990f-de1cab856d0c-69-1-c000.snappy.parquet</td><td>part-00001-tid-597107826751072451-66252285-d79e-49c9-990f-de1cab856d0c-69-1-c000.snappy.parquet</td><td>1038</td><td>1711723960000</td></tr><tr><td>dbfs:/databricks-results/bronze/2023/01/05/part-00002-tid-597107826751072451-66252285-d79e-49c9-990f-de1cab856d0c-70-1-c000.snappy.parquet</td><td>part-00002-tid-597107826751072451-66252285-d79e-49c9-990f-de1cab856d0c-70-1-c000.snappy.parquet</td><td>1039</td><td>1711723959000</td></tr><tr><td>dbfs:/databricks-results/bronze/2023/01/05/part-00003-tid-597107826751072451-66252285-d79e-49c9-990f-de1cab856d0c-71-1-c000.snappy.parquet</td><td>part-00003-tid-597107826751072451-66252285-d79e-49c9-990f-de1cab856d0c-71-1-c000.snappy.parquet</td><td>1039</td><td>1711723959000</td></tr></tbody></table></div>"
      ]
     },
     "metadata": {
      "application/vnd.databricks.v1+output": {
       "addedWidgets": {},
       "aggData": [],
       "aggError": "",
       "aggOverflow": false,
       "aggSchema": [],
       "aggSeriesLimitReached": false,
       "aggType": "",
       "arguments": {},
       "columnCustomDisplayInfos": {},
       "data": [
        [
         "dbfs:/databricks-results/bronze/2023/01/05/_SUCCESS",
         "_SUCCESS",
         0,
         1711723960000
        ],
        [
         "dbfs:/databricks-results/bronze/2023/01/05/_committed_597107826751072451",
         "_committed_597107826751072451",
         416,
         1711723960000
        ],
        [
         "dbfs:/databricks-results/bronze/2023/01/05/_started_597107826751072451",
         "_started_597107826751072451",
         0,
         1711723959000
        ],
        [
         "dbfs:/databricks-results/bronze/2023/01/05/part-00000-tid-597107826751072451-66252285-d79e-49c9-990f-de1cab856d0c-68-1-c000.snappy.parquet",
         "part-00000-tid-597107826751072451-66252285-d79e-49c9-990f-de1cab856d0c-68-1-c000.snappy.parquet",
         1039,
         1711723960000
        ],
        [
         "dbfs:/databricks-results/bronze/2023/01/05/part-00001-tid-597107826751072451-66252285-d79e-49c9-990f-de1cab856d0c-69-1-c000.snappy.parquet",
         "part-00001-tid-597107826751072451-66252285-d79e-49c9-990f-de1cab856d0c-69-1-c000.snappy.parquet",
         1038,
         1711723960000
        ],
        [
         "dbfs:/databricks-results/bronze/2023/01/05/part-00002-tid-597107826751072451-66252285-d79e-49c9-990f-de1cab856d0c-70-1-c000.snappy.parquet",
         "part-00002-tid-597107826751072451-66252285-d79e-49c9-990f-de1cab856d0c-70-1-c000.snappy.parquet",
         1039,
         1711723959000
        ],
        [
         "dbfs:/databricks-results/bronze/2023/01/05/part-00003-tid-597107826751072451-66252285-d79e-49c9-990f-de1cab856d0c-71-1-c000.snappy.parquet",
         "part-00003-tid-597107826751072451-66252285-d79e-49c9-990f-de1cab856d0c-71-1-c000.snappy.parquet",
         1039,
         1711723959000
        ]
       ],
       "datasetInfos": [],
       "dbfsResultPath": null,
       "isJsonSchema": true,
       "metadata": {},
       "overflow": false,
       "plotOptions": {
        "customPlotOptions": {},
        "displayType": "table",
        "pivotAggregation": null,
        "pivotColumns": null,
        "xColumns": null,
        "yColumns": null
       },
       "removedWidgets": [],
       "schema": [
        {
         "metadata": "{}",
         "name": "path",
         "type": "\"string\""
        },
        {
         "metadata": "{}",
         "name": "name",
         "type": "\"string\""
        },
        {
         "metadata": "{}",
         "name": "size",
         "type": "\"long\""
        },
        {
         "metadata": "{}",
         "name": "modificationTime",
         "type": "\"long\""
        }
       ],
       "type": "table"
      }
     },
     "output_type": "display_data"
    }
   ],
   "source": [
    "# exibindo conteúdo presente no endereço indicado\n",
    "display(dbutils.fs.ls(f\"{caminho_completo}\"))"
   ]
  }
 ],
 "metadata": {
  "application/vnd.databricks.v1+notebook": {
   "dashboards": [],
   "language": "python",
   "notebookMetadata": {
    "pythonIndentUnit": 4
   },
   "notebookName": "00-extraindo-dados-codigo-livre",
   "widgets": {}
  },
  "language_info": {
   "name": "python"
  }
 },
 "nbformat": 4,
 "nbformat_minor": 0
}
