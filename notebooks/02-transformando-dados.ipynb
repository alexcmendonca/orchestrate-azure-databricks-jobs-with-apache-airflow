{
 "cells": [
  {
   "cell_type": "code",
   "execution_count": 0,
   "metadata": {
    "application/vnd.databricks.v1+cell": {
     "cellMetadata": {
      "byteLimit": 2048000,
      "rowLimit": 10000
     },
     "inputWidgets": {},
     "nuid": "ed5edd93-c06f-49ae-ab0b-a040d337eedc",
     "showTitle": false,
     "title": ""
    }
   },
   "outputs": [
    {
     "output_type": "display_data",
     "data": {
      "text/html": [
       "<style scoped>\n",
       "  .table-result-container {\n",
       "    max-height: 300px;\n",
       "    overflow: auto;\n",
       "  }\n",
       "  table, th, td {\n",
       "    border: 1px solid black;\n",
       "    border-collapse: collapse;\n",
       "  }\n",
       "  th, td {\n",
       "    padding: 5px;\n",
       "  }\n",
       "  th {\n",
       "    text-align: left;\n",
       "  }\n",
       "</style><div class='table-result-container'><table class='table-result'><thead style='background-color: white'><tr><th>path</th><th>name</th><th>size</th><th>modificationTime</th></tr></thead><tbody><tr><td>dbfs:/databricks-results/bronze/2024/02/</td><td>02/</td><td>0</td><td>1712245564000</td></tr><tr><td>dbfs:/databricks-results/bronze/2024/03/</td><td>03/</td><td>0</td><td>1711856759000</td></tr><tr><td>dbfs:/databricks-results/bronze/2024/04/</td><td>04/</td><td>0</td><td>1712246659000</td></tr></tbody></table></div>"
      ]
     },
     "metadata": {
      "application/vnd.databricks.v1+output": {
       "addedWidgets": {},
       "aggData": [],
       "aggError": "",
       "aggOverflow": false,
       "aggSchema": [],
       "aggSeriesLimitReached": false,
       "aggType": "",
       "arguments": {},
       "columnCustomDisplayInfos": {},
       "data": [
        [
         "dbfs:/databricks-results/bronze/2024/02/",
         "02/",
         0,
         1712245564000
        ],
        [
         "dbfs:/databricks-results/bronze/2024/03/",
         "03/",
         0,
         1711856759000
        ],
        [
         "dbfs:/databricks-results/bronze/2024/04/",
         "04/",
         0,
         1712246659000
        ]
       ],
       "datasetInfos": [],
       "dbfsResultPath": null,
       "isJsonSchema": true,
       "metadata": {},
       "overflow": false,
       "plotOptions": {
        "customPlotOptions": {},
        "displayType": "table",
        "pivotAggregation": null,
        "pivotColumns": null,
        "xColumns": null,
        "yColumns": null
       },
       "removedWidgets": [],
       "schema": [
        {
         "metadata": "{}",
         "name": "path",
         "type": "\"string\""
        },
        {
         "metadata": "{}",
         "name": "name",
         "type": "\"string\""
        },
        {
         "metadata": "{}",
         "name": "size",
         "type": "\"long\""
        },
        {
         "metadata": "{}",
         "name": "modificationTime",
         "type": "\"long\""
        }
       ],
       "type": "table"
      }
     },
     "output_type": "display_data"
    }
   ],
   "source": [
    "# visualizando dados\n",
    "display(dbutils.fs.ls(\"dbfs:/databricks-results/bronze/2024\"))"
   ]
  },
  {
   "cell_type": "code",
   "execution_count": 0,
   "metadata": {
    "application/vnd.databricks.v1+cell": {
     "cellMetadata": {
      "byteLimit": 2048000,
      "rowLimit": 10000
     },
     "inputWidgets": {},
     "nuid": "88bac0b8-a5b1-4586-8a55-42a35e770600",
     "showTitle": false,
     "title": ""
    }
   },
   "outputs": [
    {
     "output_type": "stream",
     "name": "stdout",
     "output_type": "stream",
     "text": [
      "+-----+----------+----------+\n|moeda|      taxa|      data|\n+-----+----------+----------+\n|  USD|  0.201077|2024-02-05|\n|  GBP|  0.160427|2024-02-05|\n|  EUR|  0.187198|2024-02-05|\n|  JPY| 29.889123|2024-02-05|\n|  CNY|  1.431367|2024-02-05|\n|  CAD|  0.272331|2024-02-05|\n|  ZAR|  3.833315|2024-02-05|\n|  ARS|166.702274|2024-02-05|\n|  EUR|  0.187288|2024-02-06|\n|  JPY| 29.779429|2024-02-06|\n|  CNY|  1.432392|2024-02-06|\n|  CAD|  0.271765|2024-02-06|\n|  ZAR|  3.793992|2024-02-06|\n|  ARS|167.106885|2024-02-06|\n|  USD|  0.201175|2024-02-07|\n|  GBP|  0.159326|2024-02-07|\n|  EUR|  0.186701|2024-02-07|\n|  JPY| 29.792147|2024-02-07|\n|  CNY|  1.430573|2024-02-07|\n|  CAD|  0.270912|2024-02-07|\n+-----+----------+----------+\nonly showing top 20 rows\n\n"
     ]
    }
   ],
   "source": [
    "# exibindo os primeiros registros de todos os subdiretórios e arquivos dentro da pasta 'bronze'\n",
    "spark.read.parquet(\"dbfs:/databricks-results/bronze/*/*/*\").show()"
   ]
  },
  {
   "cell_type": "code",
   "execution_count": 0,
   "metadata": {
    "application/vnd.databricks.v1+cell": {
     "cellMetadata": {
      "byteLimit": 2048000,
      "rowLimit": 10000
     },
     "inputWidgets": {},
     "nuid": "2ae97f41-957e-491b-9ec7-ad587f4b9a46",
     "showTitle": false,
     "title": ""
    }
   },
   "outputs": [
    {
     "output_type": "stream",
     "name": "stdout",
     "output_type": "stream",
     "text": [
      "+-----+---------+----------+\n|moeda|     taxa|      data|\n+-----+---------+----------+\n|  USD| 0.201077|2024-02-05|\n|  GBP| 0.160427|2024-02-05|\n|  EUR| 0.187198|2024-02-05|\n|  JPY|29.889123|2024-02-05|\n|  CNY| 1.431367|2024-02-05|\n+-----+---------+----------+\nonly showing top 5 rows\n\n"
     ]
    }
   ],
   "source": [
    "df_dados_juntos = spark.read.parquet(\"dbfs:/databricks-results/bronze/*/*/*\")\n",
    "df_dados_juntos.show(5)"
   ]
  },
  {
   "cell_type": "code",
   "execution_count": 0,
   "metadata": {
    "application/vnd.databricks.v1+cell": {
     "cellMetadata": {
      "byteLimit": 2048000,
      "rowLimit": 10000
     },
     "inputWidgets": {},
     "nuid": "5af15c07-74f5-4690-88dd-9acf9aa9f086",
     "showTitle": false,
     "title": ""
    }
   },
   "outputs": [
    {
     "output_type": "execute_result",
     "data": {
      "text/plain": [
       "344"
      ]
     },
     "execution_count": 10,
     "metadata": {},
     "output_type": "execute_result"
    }
   ],
   "source": [
    "# consultando qtde de linhas no dataframe\n",
    "df_dados_juntos.count()"
   ]
  },
  {
   "cell_type": "code",
   "execution_count": 0,
   "metadata": {
    "application/vnd.databricks.v1+cell": {
     "cellMetadata": {
      "byteLimit": 2048000,
      "rowLimit": 10000
     },
     "inputWidgets": {},
     "nuid": "48cb0f71-97b9-4c3d-9cb0-e8b03611ad79",
     "showTitle": false,
     "title": ""
    }
   },
   "outputs": [
    {
     "output_type": "execute_result",
     "data": {
      "text/plain": [
       "8"
      ]
     },
     "execution_count": 11,
     "metadata": {},
     "output_type": "execute_result"
    }
   ],
   "source": [
    "# consultando total de moedas diferentes disponíveis no conjunto de dados\n",
    "df_dados_juntos.select('moeda').distinct().count()"
   ]
  },
  {
   "cell_type": "code",
   "execution_count": 0,
   "metadata": {
    "application/vnd.databricks.v1+cell": {
     "cellMetadata": {
      "byteLimit": 2048000,
      "rowLimit": 10000
     },
     "inputWidgets": {},
     "nuid": "50651e15-d653-4cab-b262-89084229f7c4",
     "showTitle": false,
     "title": ""
    }
   },
   "outputs": [
    {
     "output_type": "stream",
     "name": "stdout",
     "output_type": "stream",
     "text": [
      "+-----+--------+----------+\n|moeda|    taxa|      data|\n+-----+--------+----------+\n|  USD|0.201077|2024-02-05|\n|  GBP|0.160427|2024-02-05|\n|  EUR|0.187198|2024-02-05|\n|  EUR|0.187288|2024-02-06|\n|  USD|0.201175|2024-02-07|\n+-----+--------+----------+\nonly showing top 5 rows\n\n"
     ]
    }
   ],
   "source": [
    "# filtrando conjunto de dados com apenas três moedas \n",
    "moedas = ['USD', 'EUR', 'GBP']\n",
    "\n",
    "df_moedas = df_dados_juntos.filter(df_dados_juntos.moeda.isin(moedas))\n",
    "df_moedas.show(5)"
   ]
  },
  {
   "cell_type": "code",
   "execution_count": 0,
   "metadata": {
    "application/vnd.databricks.v1+cell": {
     "cellMetadata": {
      "byteLimit": 2048000,
      "rowLimit": 10000
     },
     "inputWidgets": {},
     "nuid": "f59d5d4a-e88d-49a1-aa5c-256d2e66f3b8",
     "showTitle": false,
     "title": ""
    }
   },
   "outputs": [
    {
     "output_type": "execute_result",
     "data": {
      "text/plain": [
       "3"
      ]
     },
     "execution_count": 16,
     "metadata": {},
     "output_type": "execute_result"
    }
   ],
   "source": [
    "# nova consulta de moedas distintas no novo dataframe\n",
    "df_moedas.select(\"moeda\").distinct().count()"
   ]
  },
  {
   "cell_type": "code",
   "execution_count": 0,
   "metadata": {
    "application/vnd.databricks.v1+cell": {
     "cellMetadata": {
      "byteLimit": 2048000,
      "rowLimit": 10000
     },
     "inputWidgets": {},
     "nuid": "f5ad1fe0-254d-4f4b-94f5-182eaf3909d3",
     "showTitle": false,
     "title": ""
    }
   },
   "outputs": [
    {
     "output_type": "stream",
     "name": "stdout",
     "output_type": "stream",
     "text": [
      "root\n |-- moeda: string (nullable = true)\n |-- taxa: double (nullable = true)\n |-- data: string (nullable = true)\n\n"
     ]
    }
   ],
   "source": [
    "# verificando o esquema dos dados\n",
    "df_moedas.printSchema()"
   ]
  },
  {
   "cell_type": "code",
   "execution_count": 0,
   "metadata": {
    "application/vnd.databricks.v1+cell": {
     "cellMetadata": {
      "byteLimit": 2048000,
      "rowLimit": 10000
     },
     "inputWidgets": {},
     "nuid": "b32708c4-a11f-45f4-b3c3-914eeefeda65",
     "showTitle": false,
     "title": ""
    }
   },
   "outputs": [],
   "source": [
    "# convertendo os valores na coluna 'data' de string para date\n",
    "from pyspark.sql.functions import to_date\n",
    "\n",
    "df_moedas = df_moedas.withColumn(\"data\", to_date(\"data\"))"
   ]
  },
  {
   "cell_type": "code",
   "execution_count": 0,
   "metadata": {
    "application/vnd.databricks.v1+cell": {
     "cellMetadata": {
      "byteLimit": 2048000,
      "rowLimit": 10000
     },
     "inputWidgets": {},
     "nuid": "69f12a29-61b1-4e49-842c-540d52696fcd",
     "showTitle": false,
     "title": ""
    }
   },
   "outputs": [
    {
     "output_type": "stream",
     "name": "stdout",
     "output_type": "stream",
     "text": [
      "root\n |-- moeda: string (nullable = true)\n |-- taxa: double (nullable = true)\n |-- data: date (nullable = true)\n\n"
     ]
    }
   ],
   "source": [
    "# verificando o esquema dos dados\n",
    "df_moedas.printSchema()"
   ]
  },
  {
   "cell_type": "code",
   "execution_count": 0,
   "metadata": {
    "application/vnd.databricks.v1+cell": {
     "cellMetadata": {
      "byteLimit": 2048000,
      "rowLimit": 10000
     },
     "inputWidgets": {},
     "nuid": "d6081b02-6219-4222-a31f-5a342e75fa00",
     "showTitle": false,
     "title": ""
    }
   },
   "outputs": [
    {
     "output_type": "stream",
     "name": "stdout",
     "output_type": "stream",
     "text": [
      "+----------+--------+--------+--------+\n|      data|     EUR|     GBP|     USD|\n+----------+--------+--------+--------+\n|2024-04-04| 0.18374|0.157575|0.199664|\n|2024-04-03|0.183063|0.156812|0.198409|\n|2024-04-02|0.183317|0.156959|0.197398|\n|2024-04-01|0.184242|0.157692| 0.19782|\n|2024-03-31|0.184771|0.157804|0.199414|\n|2024-03-30|0.184629|0.157923|0.199394|\n|2024-03-27|0.185265|0.158791|0.200329|\n|2024-03-25|0.185512|0.159099|0.201058|\n|2024-03-24|0.184969|0.158678|0.199904|\n|2024-03-23|0.185875|0.160247|0.201927|\n|2024-03-22|0.183994|0.158625|0.199884|\n|2024-03-21|0.185018|0.158734|0.200966|\n|2024-03-20|0.184056|0.157292|  0.2013|\n|2024-03-19|0.182958|0.156266|0.198748|\n|2024-03-18|0.182815|0.156195|0.198784|\n|2024-03-17|0.184115|0.157381|0.200361|\n|2024-03-16|0.183642| 0.15721|0.200144|\n|2024-03-15|0.183642|0.157185|0.200144|\n|2024-03-14|0.183984|0.157103|0.200232|\n|2024-03-12|0.184126|0.157247|0.201203|\n+----------+--------+--------+--------+\nonly showing top 20 rows\n\n"
     ]
    }
   ],
   "source": [
    "# informando o valor de cada taxa das 3 moedas por data ordenados por data de forma descendente\n",
    "from pyspark.sql.functions import first\n",
    "\n",
    "resultado_taxas_conversao = df_moedas.groupBy('data')\\\n",
    "                                    .pivot('moeda')\\\n",
    "                                    .agg(first('taxa'))\\\n",
    "                                    .orderBy('data', ascending=False)\n",
    "resultado_taxas_conversao.show()"
   ]
  },
  {
   "cell_type": "code",
   "execution_count": 0,
   "metadata": {
    "application/vnd.databricks.v1+cell": {
     "cellMetadata": {
      "byteLimit": 2048000,
      "rowLimit": 10000
     },
     "inputWidgets": {},
     "nuid": "3c473d73-ee22-45f6-a367-ccc9e1371814",
     "showTitle": false,
     "title": ""
    }
   },
   "outputs": [
    {
     "output_type": "stream",
     "name": "stdout",
     "output_type": "stream",
     "text": [
      "+----------+--------+--------+--------+\n|      data|     EUR|     GBP|     USD|\n+----------+--------+--------+--------+\n|2024-04-04| 0.18374|0.157575|0.199664|\n|2024-04-03|0.183063|0.156812|0.198409|\n|2024-04-02|0.183317|0.156959|0.197398|\n|2024-04-01|0.184242|0.157692| 0.19782|\n|2024-03-31|0.184771|0.157804|0.199414|\n+----------+--------+--------+--------+\nonly showing top 5 rows\n\n"
     ]
    }
   ],
   "source": [
    "#\n",
    "resultado_valores_em_reais = resultado_taxas_conversao.select('*')\n",
    "resultado_valores_em_reais.show(5)"
   ]
  },
  {
   "cell_type": "code",
   "execution_count": 0,
   "metadata": {
    "application/vnd.databricks.v1+cell": {
     "cellMetadata": {
      "byteLimit": 2048000,
      "rowLimit": 10000
     },
     "inputWidgets": {},
     "nuid": "31acefaa-282f-4853-b8a5-d997f8deb830",
     "showTitle": false,
     "title": ""
    }
   },
   "outputs": [],
   "source": [
    "# calculando o valor equivalente em R$ para cada moeda disponível no dataframe\n",
    "from pyspark.sql.functions import col, round\n",
    "\n",
    "for moeda in moedas:\n",
    "    resultado_valores_em_reais = resultado_valores_em_reais\\\n",
    "                                    .withColumn(\n",
    "                                        moeda, round(1/col(moeda), 4)\n",
    "                                    )"
   ]
  },
  {
   "cell_type": "code",
   "execution_count": 0,
   "metadata": {
    "application/vnd.databricks.v1+cell": {
     "cellMetadata": {
      "byteLimit": 2048000,
      "rowLimit": 10000
     },
     "inputWidgets": {},
     "nuid": "a5f8e4cf-af01-4076-b1cd-9aab137af742",
     "showTitle": false,
     "title": ""
    }
   },
   "outputs": [
    {
     "output_type": "stream",
     "name": "stdout",
     "output_type": "stream",
     "text": [
      "+----------+------+------+------+\n|      data|   EUR|   GBP|   USD|\n+----------+------+------+------+\n|2024-04-04|5.4437|6.3452|5.0075|\n|2024-04-03|5.4615|6.3776|5.0403|\n|2024-04-02|5.4555|6.3694|5.0659|\n|2024-04-01|5.4289|6.3412|5.0556|\n|2024-03-31|5.4113|6.3371| 5.015|\n|2024-03-30|5.4171|6.3331| 5.015|\n|2024-03-27|5.3967|6.2972|4.9925|\n|2024-03-25|5.3908|6.2854|4.9727|\n|2024-03-24|5.4054|6.3012|5.0025|\n|2024-03-23|5.3792|6.2422|4.9529|\n|2024-03-22|5.4348|6.3052|5.0025|\n|2024-03-21|5.4054|6.3012|4.9751|\n|2024-03-20|5.4318|6.3573|4.9677|\n|2024-03-19|5.4645| 6.398|5.0327|\n|2024-03-18|5.4705| 6.402|5.0302|\n|2024-03-17|5.4318|6.3532|  4.99|\n|2024-03-16|5.4466|6.3613|4.9975|\n|2024-03-15|5.4466|6.3613|4.9975|\n|2024-03-14|5.4348|6.3654| 4.995|\n|2024-03-12|5.4318|6.3613|4.9702|\n+----------+------+------+------+\nonly showing top 20 rows\n\n"
     ]
    }
   ],
   "source": [
    "# visualizando resultado da conversão\n",
    "resultado_valores_em_reais.show()"
   ]
  },
  {
   "cell_type": "code",
   "execution_count": 0,
   "metadata": {
    "application/vnd.databricks.v1+cell": {
     "cellMetadata": {
      "byteLimit": 2048000,
      "rowLimit": 10000
     },
     "inputWidgets": {},
     "nuid": "c61eeea6-81e0-44e5-a9e8-a2aa3e6d0d86",
     "showTitle": false,
     "title": ""
    }
   },
   "outputs": [],
   "source": [
    "# diminuindo o número de partições do dataframe para 1, simplificando e garantindo neste projeto a geração de um único arquivo de saída\n",
    "resultado_taxas_conversao = resultado_taxas_conversao.coalesce(1)\n",
    "resultado_valores_em_reais = resultado_valores_em_reais.coalesce(1)"
   ]
  },
  {
   "cell_type": "code",
   "execution_count": 0,
   "metadata": {
    "application/vnd.databricks.v1+cell": {
     "cellMetadata": {
      "byteLimit": 2048000,
      "rowLimit": 10000
     },
     "inputWidgets": {},
     "nuid": "d6d36a44-e17d-406f-a365-809a9f5da249",
     "showTitle": false,
     "title": ""
    }
   },
   "outputs": [],
   "source": [
    "# salvando dados transformados na camada 'prata'\n",
    "resultado_taxas_conversao.write\\\n",
    "    .mode (\"overwrite\")\\\n",
    "    .format(\"csv\")\\\n",
    "    .option(\"header\", \"true\")\\\n",
    "    .save(\"dbfs:/databricks-results/prata/taxas_conversao\")\n",
    "    \n",
    "resultado_valores_em_reais.write\\\n",
    "    .mode (\"overwrite\")\\\n",
    "    .format(\"csv\")\\\n",
    "    .option(\"header\", \"true\")\\\n",
    "    .save(\"dbfs:/databricks-results/prata/valores_reais\")\n"
   ]
  },
  {
   "cell_type": "code",
   "execution_count": 0,
   "metadata": {
    "application/vnd.databricks.v1+cell": {
     "cellMetadata": {
      "byteLimit": 2048000,
      "rowLimit": 10000
     },
     "inputWidgets": {},
     "nuid": "50d171f5-7143-4d89-88c6-2ffbee58b47d",
     "showTitle": false,
     "title": ""
    }
   },
   "outputs": [
    {
     "output_type": "display_data",
     "data": {
      "text/html": [
       "<style scoped>\n",
       "  .table-result-container {\n",
       "    max-height: 300px;\n",
       "    overflow: auto;\n",
       "  }\n",
       "  table, th, td {\n",
       "    border: 1px solid black;\n",
       "    border-collapse: collapse;\n",
       "  }\n",
       "  th, td {\n",
       "    padding: 5px;\n",
       "  }\n",
       "  th {\n",
       "    text-align: left;\n",
       "  }\n",
       "</style><div class='table-result-container'><table class='table-result'><thead style='background-color: white'><tr><th>path</th><th>name</th><th>size</th><th>modificationTime</th></tr></thead><tbody><tr><td>dbfs:/databricks-results/prata/valores_reais/_SUCCESS</td><td>_SUCCESS</td><td>0</td><td>1712260962000</td></tr><tr><td>dbfs:/databricks-results/prata/valores_reais/_committed_7855316289302317667</td><td>_committed_7855316289302317667</td><td>113</td><td>1712260962000</td></tr><tr><td>dbfs:/databricks-results/prata/valores_reais/_started_7855316289302317667</td><td>_started_7855316289302317667</td><td>0</td><td>1712260961000</td></tr><tr><td>dbfs:/databricks-results/prata/valores_reais/part-00000-tid-7855316289302317667-ada049ac-0069-4849-b36d-babb64992508-802-1-c000.csv</td><td>part-00000-tid-7855316289302317667-ada049ac-0069-4849-b36d-babb64992508-802-1-c000.csv</td><td>1378</td><td>1712260961000</td></tr></tbody></table></div>"
      ]
     },
     "metadata": {
      "application/vnd.databricks.v1+output": {
       "addedWidgets": {},
       "aggData": [],
       "aggError": "",
       "aggOverflow": false,
       "aggSchema": [],
       "aggSeriesLimitReached": false,
       "aggType": "",
       "arguments": {},
       "columnCustomDisplayInfos": {},
       "data": [
        [
         "dbfs:/databricks-results/prata/valores_reais/_SUCCESS",
         "_SUCCESS",
         0,
         1712260962000
        ],
        [
         "dbfs:/databricks-results/prata/valores_reais/_committed_7855316289302317667",
         "_committed_7855316289302317667",
         113,
         1712260962000
        ],
        [
         "dbfs:/databricks-results/prata/valores_reais/_started_7855316289302317667",
         "_started_7855316289302317667",
         0,
         1712260961000
        ],
        [
         "dbfs:/databricks-results/prata/valores_reais/part-00000-tid-7855316289302317667-ada049ac-0069-4849-b36d-babb64992508-802-1-c000.csv",
         "part-00000-tid-7855316289302317667-ada049ac-0069-4849-b36d-babb64992508-802-1-c000.csv",
         1378,
         1712260961000
        ]
       ],
       "datasetInfos": [],
       "dbfsResultPath": null,
       "isJsonSchema": true,
       "metadata": {},
       "overflow": false,
       "plotOptions": {
        "customPlotOptions": {},
        "displayType": "table",
        "pivotAggregation": null,
        "pivotColumns": null,
        "xColumns": null,
        "yColumns": null
       },
       "removedWidgets": [],
       "schema": [
        {
         "metadata": "{}",
         "name": "path",
         "type": "\"string\""
        },
        {
         "metadata": "{}",
         "name": "name",
         "type": "\"string\""
        },
        {
         "metadata": "{}",
         "name": "size",
         "type": "\"long\""
        },
        {
         "metadata": "{}",
         "name": "modificationTime",
         "type": "\"long\""
        }
       ],
       "type": "table"
      }
     },
     "output_type": "display_data"
    }
   ],
   "source": [
    "# consultando arquivo csv que foi salvo no diretório Databricks\n",
    "display(dbutils.fs.ls('dbfs:/databricks-results/prata/valores_reais/'))"
   ]
  },
  {
   "cell_type": "code",
   "execution_count": 0,
   "metadata": {
    "application/vnd.databricks.v1+cell": {
     "cellMetadata": {
      "byteLimit": 2048000,
      "rowLimit": 10000
     },
     "inputWidgets": {},
     "nuid": "12061ae9-e3e4-4484-861f-c6c3637574f6",
     "showTitle": false,
     "title": ""
    }
   },
   "outputs": [
    {
     "output_type": "display_data",
     "data": {
      "text/html": [
       "<style scoped>\n",
       "  .table-result-container {\n",
       "    max-height: 300px;\n",
       "    overflow: auto;\n",
       "  }\n",
       "  table, th, td {\n",
       "    border: 1px solid black;\n",
       "    border-collapse: collapse;\n",
       "  }\n",
       "  th, td {\n",
       "    padding: 5px;\n",
       "  }\n",
       "  th {\n",
       "    text-align: left;\n",
       "  }\n",
       "</style><div class='table-result-container'><table class='table-result'><thead style='background-color: white'><tr><th>path</th><th>name</th><th>size</th><th>modificationTime</th></tr></thead><tbody><tr><td>dbfs:/databricks-results/prata/taxas_conversao/_SUCCESS</td><td>_SUCCESS</td><td>0</td><td>1712260957000</td></tr><tr><td>dbfs:/databricks-results/prata/taxas_conversao/_committed_77638854441662894</td><td>_committed_77638854441662894</td><td>111</td><td>1712260957000</td></tr><tr><td>dbfs:/databricks-results/prata/taxas_conversao/_started_77638854441662894</td><td>_started_77638854441662894</td><td>0</td><td>1712260956000</td></tr><tr><td>dbfs:/databricks-results/prata/taxas_conversao/part-00000-tid-77638854441662894-69850205-6289-42d9-8fea-0231f7c280d6-792-1-c000.csv</td><td>part-00000-tid-77638854441662894-69850205-6289-42d9-8fea-0231f7c280d6-792-1-c000.csv</td><td>1635</td><td>1712260957000</td></tr></tbody></table></div>"
      ]
     },
     "metadata": {
      "application/vnd.databricks.v1+output": {
       "addedWidgets": {},
       "aggData": [],
       "aggError": "",
       "aggOverflow": false,
       "aggSchema": [],
       "aggSeriesLimitReached": false,
       "aggType": "",
       "arguments": {},
       "columnCustomDisplayInfos": {},
       "data": [
        [
         "dbfs:/databricks-results/prata/taxas_conversao/_SUCCESS",
         "_SUCCESS",
         0,
         1712260957000
        ],
        [
         "dbfs:/databricks-results/prata/taxas_conversao/_committed_77638854441662894",
         "_committed_77638854441662894",
         111,
         1712260957000
        ],
        [
         "dbfs:/databricks-results/prata/taxas_conversao/_started_77638854441662894",
         "_started_77638854441662894",
         0,
         1712260956000
        ],
        [
         "dbfs:/databricks-results/prata/taxas_conversao/part-00000-tid-77638854441662894-69850205-6289-42d9-8fea-0231f7c280d6-792-1-c000.csv",
         "part-00000-tid-77638854441662894-69850205-6289-42d9-8fea-0231f7c280d6-792-1-c000.csv",
         1635,
         1712260957000
        ]
       ],
       "datasetInfos": [],
       "dbfsResultPath": null,
       "isJsonSchema": true,
       "metadata": {},
       "overflow": false,
       "plotOptions": {
        "customPlotOptions": {},
        "displayType": "table",
        "pivotAggregation": null,
        "pivotColumns": null,
        "xColumns": null,
        "yColumns": null
       },
       "removedWidgets": [],
       "schema": [
        {
         "metadata": "{}",
         "name": "path",
         "type": "\"string\""
        },
        {
         "metadata": "{}",
         "name": "name",
         "type": "\"string\""
        },
        {
         "metadata": "{}",
         "name": "size",
         "type": "\"long\""
        },
        {
         "metadata": "{}",
         "name": "modificationTime",
         "type": "\"long\""
        }
       ],
       "type": "table"
      }
     },
     "output_type": "display_data"
    }
   ],
   "source": [
    "display(dbutils.fs.ls('dbfs:/databricks-results/prata/taxas_conversao'))"
   ]
  },
  {
   "cell_type": "code",
   "execution_count": 0,
   "metadata": {
    "application/vnd.databricks.v1+cell": {
     "cellMetadata": {
      "byteLimit": 2048000,
      "rowLimit": 10000
     },
     "inputWidgets": {},
     "nuid": "b0e55eb5-562e-48e5-b611-f5b92e0cf850",
     "showTitle": false,
     "title": ""
    }
   },
   "outputs": [
    {
     "output_type": "execute_result",
     "data": {
      "text/plain": [
       "True"
      ]
     },
     "execution_count": 54,
     "metadata": {},
     "output_type": "execute_result"
    }
   ],
   "source": [
    "# excluindo pasta e arquivos\n",
    "dbutils.fs.rm(\"dbfs:/databricks-results/prata/taxas_conversao\", True)"
   ]
  },
  {
   "cell_type": "code",
   "execution_count": 0,
   "metadata": {
    "application/vnd.databricks.v1+cell": {
     "cellMetadata": {
      "byteLimit": 2048000,
      "rowLimit": 10000
     },
     "inputWidgets": {},
     "nuid": "af0af674-7207-46b8-902e-2b690b9bac7e",
     "showTitle": false,
     "title": ""
    }
   },
   "outputs": [
    {
     "output_type": "execute_result",
     "data": {
      "text/plain": [
       "True"
      ]
     },
     "execution_count": 55,
     "metadata": {},
     "output_type": "execute_result"
    }
   ],
   "source": [
    "dbutils.fs.rm(\"dbfs:/databricks-results/prata/valores_reais\", True)"
   ]
  }
 ],
 "metadata": {
  "application/vnd.databricks.v1+notebook": {
   "dashboards": [],
   "language": "python",
   "notebookMetadata": {
    "pythonIndentUnit": 4
   },
   "notebookName": "02-transformando-dados",
   "widgets": {}
  }
 },
 "nbformat": 4,
 "nbformat_minor": 0
}
